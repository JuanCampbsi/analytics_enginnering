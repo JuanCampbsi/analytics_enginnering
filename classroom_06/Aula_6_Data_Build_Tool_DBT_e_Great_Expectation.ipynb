{
 "cells": [
  {
   "cell_type": "markdown",
   "metadata": {},
   "source": [
    "## Módulo: Analytics Engineering\n",
    "    \n",
    "## Aula 6 - Parte 1"
   ]
  },
  {
   "cell_type": "markdown",
   "metadata": {},
   "source": [
    "### Programação da Aula 6:\n",
    "\n",
    "> ### 1. **DBT e Great Expectations juntos no mesmo projeto**;\n",
    "> ### 2. **Desenvolvimento do projeto final**.\n",
    "\n",
    "#### Link para o formulário para informar os integrantes do grupo do projeto:\n",
    "https://forms.gle/8kCUMyV7TDZCWz5t6"
   ]
  }
 ],
 "metadata": {
  "kernelspec": {
   "display_name": "ada",
   "language": "python",
   "name": "python3"
  },
  "language_info": {
   "codemirror_mode": {
    "name": "ipython",
    "version": 3
   },
   "file_extension": ".py",
   "mimetype": "text/x-python",
   "name": "python",
   "nbconvert_exporter": "python",
   "pygments_lexer": "ipython3",
   "version": "3.9.18"
  }
 },
 "nbformat": 4,
 "nbformat_minor": 2
}
