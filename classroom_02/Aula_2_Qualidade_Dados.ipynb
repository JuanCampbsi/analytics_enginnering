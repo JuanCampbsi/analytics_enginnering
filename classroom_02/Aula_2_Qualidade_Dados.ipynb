{
 "cells": [
  {
   "cell_type": "markdown",
   "id": "2a806ddc",
   "metadata": {},
   "source": [
    "## Módulo: Analytics Engineering\n",
    "\n",
    "## Aula 2 - Parte 1\n"
   ]
  },
  {
   "cell_type": "markdown",
   "id": "961dbaed",
   "metadata": {},
   "source": [
    "### Programação da Aula 2:\n",
    "\n",
    "> ### 1. **Princípios de qualidade de dados e seus benefícios**:\n",
    ">\n",
    "> ### 2. **Qualidade de dados na prática**;\n",
    ">\n",
    "> ### 3. **Desenvolvimento de exercício**;\n",
    "\n",
    "#### Link para o formulário de Feedback da aula:\n",
    "\n",
    "https://forms.gle/8aCVnUDwASzeioLN8\n"
   ]
  },
  {
   "cell_type": "markdown",
   "id": "28b1ef5a",
   "metadata": {},
   "source": [
    "### **Princípios da qualidade de dados**\n",
    "\n",
    "- **Precisão:** Os dados precisos são dados que estão corretos e livres de erros. Eles são baseados em fontes confiáveis e são atualizados regularmente. A precisão dos dados pode ser afetada por erros de entrada manual, integração de dados de várias fontes, omissão de dados e duplicação de dados. Para garantir a precisão dos dados, é importante realizar verificações regulares dos dados para identificar e corrigir erros.\n",
    "\n",
    "- **Consistência:** Os dados consistentes são dados que estão no mesmo formato e mantêm as mesmas definições em todos os sistemas e processos. A consistência dos dados pode ser afetada pela falta de padronização dos dados, pela variação dos nomes de campos e pela falta de integridade referencial. Para garantir a consistência dos dados, é importante estabelecer padrões para a entrada de dados e verificar regularmente se esses padrões estão sendo seguidos.\n",
    "\n",
    "- **Confiabilidade:** Os dados confiáveis são dados que são precisos e consistentes, mas também são acessíveis e seguros. Eles são protegidos contra perda, roubo e corrupção, e podem ser acessados por usuários autorizados. A confiabilidade dos dados pode ser afetada pela falta de segurança de dados, pela falta de backups regulares e pela falta de controle de acesso aos dados. Para garantir a confiabilidade dos dados, é importante implementar práticas de segurança de dados, como backups regulares e controles de acesso.\n",
    "\n",
    "- **Relevância:** Os dados relevantes são dados que são necessários para as decisões empresariais. Eles são coletados com base nos requisitos do negócio e são relevantes para os usuários finais. A relevância dos dados pode ser afetada pela coleta de dados desnecessários ou pela falta de coleta de dados importantes. Para garantir a relevância dos dados, é importante estabelecer um processo para identificar os requisitos de dados do negócio e coletar apenas os dados necessários.\n",
    "\n",
    "### **Benefícios da qualidade de dados**\n",
    "\n",
    "- **Tomada de decisão mais informada:** Dados precisos, consistentes, confiáveis e relevantes permitem que as empresas tomem decisões informadas com base em informações precisas e confiáveis.\n",
    "\n",
    "- **Redução de custos:** Dados de baixa qualidade podem levar a decisões equivocadas, o que pode levar a custos adicionais para a empresa. Ao melhorar a qualidade dos dados, as empresas podem reduzir os custos desnecessários associados à tomada de decisão equivocada.\n",
    "\n",
    "- **Melhoria da eficiência:** Dados precisos e consistentes podem ajudar a melhorar a eficiência dos processos empresariais, reduzindo o tempo gasto na correção de erros e retrabalho.\n",
    "\n",
    "- **Aumento da satisfação do cliente:** Dados precisos e relevantes permitem que as empresas entendam melhor as necessidades de seus clientes e ofereçam soluções personalizadas para atender a essas necessidades. Isso pode levar a um aumento na satisfação do cliente e na fidelidade à marca.\n"
   ]
  },
  {
   "cell_type": "markdown",
   "id": "9d0a0895",
   "metadata": {},
   "source": [
    "### **Qualidade de dados na prática**\n"
   ]
  },
  {
   "cell_type": "markdown",
   "id": "70f259da",
   "metadata": {},
   "source": [
    "### Instalação das biblioteca para verificação do perfil dos dados\n"
   ]
  },
  {
   "cell_type": "code",
   "execution_count": null,
   "id": "436a3d57",
   "metadata": {},
   "outputs": [],
   "source": [
    "# !pip install ydata_profiling"
   ]
  },
  {
   "cell_type": "markdown",
   "id": "8e32aec0",
   "metadata": {},
   "source": [
    "### Chamada da bibliotecas\n"
   ]
  },
  {
   "cell_type": "code",
   "execution_count": 2,
   "id": "0592af1d",
   "metadata": {},
   "outputs": [],
   "source": [
    "import pandas as pd\n",
    "from ydata_profiling import ProfileReport"
   ]
  },
  {
   "cell_type": "markdown",
   "id": "7dc76dfb",
   "metadata": {},
   "source": [
    "### Dataset sobre preço de carros usados:\n",
    "\n",
    "https://data.world/data-society/used-cars-data\n"
   ]
  },
  {
   "cell_type": "code",
   "execution_count": 5,
   "id": "b7346035",
   "metadata": {},
   "outputs": [
    {
     "data": {
      "text/html": [
       "<div>\n",
       "<style scoped>\n",
       "    .dataframe tbody tr th:only-of-type {\n",
       "        vertical-align: middle;\n",
       "    }\n",
       "\n",
       "    .dataframe tbody tr th {\n",
       "        vertical-align: top;\n",
       "    }\n",
       "\n",
       "    .dataframe thead th {\n",
       "        text-align: right;\n",
       "    }\n",
       "</style>\n",
       "<table border=\"1\" class=\"dataframe\">\n",
       "  <thead>\n",
       "    <tr style=\"text-align: right;\">\n",
       "      <th></th>\n",
       "      <th>ID</th>\n",
       "      <th>Customer_ID</th>\n",
       "      <th>Month</th>\n",
       "      <th>Name</th>\n",
       "      <th>Age</th>\n",
       "      <th>SSN</th>\n",
       "      <th>Occupation</th>\n",
       "      <th>Annual_Income</th>\n",
       "      <th>Monthly_Inhand_Salary</th>\n",
       "      <th>Num_Bank_Accounts</th>\n",
       "      <th>...</th>\n",
       "      <th>Num_Credit_Inquiries</th>\n",
       "      <th>Credit_Mix</th>\n",
       "      <th>Outstanding_Debt</th>\n",
       "      <th>Credit_Utilization_Ratio</th>\n",
       "      <th>Credit_History_Age</th>\n",
       "      <th>Payment_of_Min_Amount</th>\n",
       "      <th>Total_EMI_per_month</th>\n",
       "      <th>Amount_invested_monthly</th>\n",
       "      <th>Payment_Behaviour</th>\n",
       "      <th>Monthly_Balance</th>\n",
       "    </tr>\n",
       "  </thead>\n",
       "  <tbody>\n",
       "    <tr>\n",
       "      <th>0</th>\n",
       "      <td>0x160a</td>\n",
       "      <td>CUS_0xd40</td>\n",
       "      <td>September</td>\n",
       "      <td>Aaron Maashoh</td>\n",
       "      <td>23</td>\n",
       "      <td>821-00-0265</td>\n",
       "      <td>Scientist</td>\n",
       "      <td>19114.12</td>\n",
       "      <td>1824.843333</td>\n",
       "      <td>3</td>\n",
       "      <td>...</td>\n",
       "      <td>2022.0</td>\n",
       "      <td>Good</td>\n",
       "      <td>809.98</td>\n",
       "      <td>35.030402</td>\n",
       "      <td>22 Years and 9 Months</td>\n",
       "      <td>No</td>\n",
       "      <td>49.574949</td>\n",
       "      <td>236.64268203272135</td>\n",
       "      <td>Low_spent_Small_value_payments</td>\n",
       "      <td>186.26670208571772</td>\n",
       "    </tr>\n",
       "    <tr>\n",
       "      <th>1</th>\n",
       "      <td>0x160b</td>\n",
       "      <td>CUS_0xd40</td>\n",
       "      <td>October</td>\n",
       "      <td>Aaron Maashoh</td>\n",
       "      <td>24</td>\n",
       "      <td>821-00-0265</td>\n",
       "      <td>Scientist</td>\n",
       "      <td>19114.12</td>\n",
       "      <td>1824.843333</td>\n",
       "      <td>3</td>\n",
       "      <td>...</td>\n",
       "      <td>4.0</td>\n",
       "      <td>Good</td>\n",
       "      <td>809.98</td>\n",
       "      <td>33.053114</td>\n",
       "      <td>22 Years and 10 Months</td>\n",
       "      <td>No</td>\n",
       "      <td>49.574949</td>\n",
       "      <td>21.465380264657146</td>\n",
       "      <td>High_spent_Medium_value_payments</td>\n",
       "      <td>361.44400385378196</td>\n",
       "    </tr>\n",
       "    <tr>\n",
       "      <th>2</th>\n",
       "      <td>0x160c</td>\n",
       "      <td>CUS_0xd40</td>\n",
       "      <td>November</td>\n",
       "      <td>Aaron Maashoh</td>\n",
       "      <td>24</td>\n",
       "      <td>821-00-0265</td>\n",
       "      <td>Scientist</td>\n",
       "      <td>19114.12</td>\n",
       "      <td>1824.843333</td>\n",
       "      <td>3</td>\n",
       "      <td>...</td>\n",
       "      <td>4.0</td>\n",
       "      <td>Good</td>\n",
       "      <td>809.98</td>\n",
       "      <td>33.811894</td>\n",
       "      <td>NaN</td>\n",
       "      <td>No</td>\n",
       "      <td>49.574949</td>\n",
       "      <td>148.23393788500925</td>\n",
       "      <td>Low_spent_Medium_value_payments</td>\n",
       "      <td>264.67544623342997</td>\n",
       "    </tr>\n",
       "  </tbody>\n",
       "</table>\n",
       "<p>3 rows × 27 columns</p>\n",
       "</div>"
      ],
      "text/plain": [
       "       ID Customer_ID      Month           Name Age          SSN Occupation  \\\n",
       "0  0x160a   CUS_0xd40  September  Aaron Maashoh  23  821-00-0265  Scientist   \n",
       "1  0x160b   CUS_0xd40    October  Aaron Maashoh  24  821-00-0265  Scientist   \n",
       "2  0x160c   CUS_0xd40   November  Aaron Maashoh  24  821-00-0265  Scientist   \n",
       "\n",
       "  Annual_Income  Monthly_Inhand_Salary  Num_Bank_Accounts  ...  \\\n",
       "0      19114.12            1824.843333                  3  ...   \n",
       "1      19114.12            1824.843333                  3  ...   \n",
       "2      19114.12            1824.843333                  3  ...   \n",
       "\n",
       "   Num_Credit_Inquiries  Credit_Mix Outstanding_Debt Credit_Utilization_Ratio  \\\n",
       "0                2022.0        Good           809.98                35.030402   \n",
       "1                   4.0        Good           809.98                33.053114   \n",
       "2                   4.0        Good           809.98                33.811894   \n",
       "\n",
       "       Credit_History_Age Payment_of_Min_Amount Total_EMI_per_month  \\\n",
       "0   22 Years and 9 Months                    No           49.574949   \n",
       "1  22 Years and 10 Months                    No           49.574949   \n",
       "2                     NaN                    No           49.574949   \n",
       "\n",
       "   Amount_invested_monthly                 Payment_Behaviour  \\\n",
       "0       236.64268203272135    Low_spent_Small_value_payments   \n",
       "1       21.465380264657146  High_spent_Medium_value_payments   \n",
       "2       148.23393788500925   Low_spent_Medium_value_payments   \n",
       "\n",
       "      Monthly_Balance  \n",
       "0  186.26670208571772  \n",
       "1  361.44400385378196  \n",
       "2  264.67544623342997  \n",
       "\n",
       "[3 rows x 27 columns]"
      ]
     },
     "execution_count": 5,
     "metadata": {},
     "output_type": "execute_result"
    }
   ],
   "source": [
    "df = pd.read_csv(\"data/test.csv\", encoding='ISO-8859-1')\n",
    "df.head(3)"
   ]
  },
  {
   "cell_type": "markdown",
   "id": "edbc22de",
   "metadata": {},
   "source": [
    "### Comando \"describe\" que retorna algumas informações do DataFrame\n"
   ]
  },
  {
   "cell_type": "code",
   "execution_count": 6,
   "id": "4434f10b",
   "metadata": {},
   "outputs": [
    {
     "data": {
      "text/html": [
       "<div>\n",
       "<style scoped>\n",
       "    .dataframe tbody tr th:only-of-type {\n",
       "        vertical-align: middle;\n",
       "    }\n",
       "\n",
       "    .dataframe tbody tr th {\n",
       "        vertical-align: top;\n",
       "    }\n",
       "\n",
       "    .dataframe thead th {\n",
       "        text-align: right;\n",
       "    }\n",
       "</style>\n",
       "<table border=\"1\" class=\"dataframe\">\n",
       "  <thead>\n",
       "    <tr style=\"text-align: right;\">\n",
       "      <th></th>\n",
       "      <th>Monthly_Inhand_Salary</th>\n",
       "      <th>Num_Bank_Accounts</th>\n",
       "      <th>Num_Credit_Card</th>\n",
       "      <th>Interest_Rate</th>\n",
       "      <th>Delay_from_due_date</th>\n",
       "      <th>Num_Credit_Inquiries</th>\n",
       "      <th>Credit_Utilization_Ratio</th>\n",
       "      <th>Total_EMI_per_month</th>\n",
       "    </tr>\n",
       "  </thead>\n",
       "  <tbody>\n",
       "    <tr>\n",
       "      <th>count</th>\n",
       "      <td>42502.000000</td>\n",
       "      <td>50000.000000</td>\n",
       "      <td>50000.000000</td>\n",
       "      <td>50000.000000</td>\n",
       "      <td>50000.000000</td>\n",
       "      <td>48965.000000</td>\n",
       "      <td>50000.000000</td>\n",
       "      <td>50000.000000</td>\n",
       "    </tr>\n",
       "    <tr>\n",
       "      <th>mean</th>\n",
       "      <td>4182.004291</td>\n",
       "      <td>16.838260</td>\n",
       "      <td>22.921480</td>\n",
       "      <td>68.772640</td>\n",
       "      <td>21.052640</td>\n",
       "      <td>30.080200</td>\n",
       "      <td>32.279581</td>\n",
       "      <td>1491.304305</td>\n",
       "    </tr>\n",
       "    <tr>\n",
       "      <th>std</th>\n",
       "      <td>3174.109304</td>\n",
       "      <td>116.396848</td>\n",
       "      <td>129.314804</td>\n",
       "      <td>451.602363</td>\n",
       "      <td>14.860397</td>\n",
       "      <td>196.984121</td>\n",
       "      <td>5.106238</td>\n",
       "      <td>8595.647887</td>\n",
       "    </tr>\n",
       "    <tr>\n",
       "      <th>min</th>\n",
       "      <td>303.645417</td>\n",
       "      <td>-1.000000</td>\n",
       "      <td>0.000000</td>\n",
       "      <td>1.000000</td>\n",
       "      <td>-5.000000</td>\n",
       "      <td>0.000000</td>\n",
       "      <td>20.509652</td>\n",
       "      <td>0.000000</td>\n",
       "    </tr>\n",
       "    <tr>\n",
       "      <th>25%</th>\n",
       "      <td>1625.188333</td>\n",
       "      <td>3.000000</td>\n",
       "      <td>4.000000</td>\n",
       "      <td>8.000000</td>\n",
       "      <td>10.000000</td>\n",
       "      <td>4.000000</td>\n",
       "      <td>28.061040</td>\n",
       "      <td>32.222388</td>\n",
       "    </tr>\n",
       "    <tr>\n",
       "      <th>50%</th>\n",
       "      <td>3086.305000</td>\n",
       "      <td>6.000000</td>\n",
       "      <td>5.000000</td>\n",
       "      <td>13.000000</td>\n",
       "      <td>18.000000</td>\n",
       "      <td>7.000000</td>\n",
       "      <td>32.280390</td>\n",
       "      <td>74.733349</td>\n",
       "    </tr>\n",
       "    <tr>\n",
       "      <th>75%</th>\n",
       "      <td>5934.189094</td>\n",
       "      <td>7.000000</td>\n",
       "      <td>7.000000</td>\n",
       "      <td>20.000000</td>\n",
       "      <td>28.000000</td>\n",
       "      <td>10.000000</td>\n",
       "      <td>36.468591</td>\n",
       "      <td>176.157491</td>\n",
       "    </tr>\n",
       "    <tr>\n",
       "      <th>max</th>\n",
       "      <td>15204.633333</td>\n",
       "      <td>1798.000000</td>\n",
       "      <td>1499.000000</td>\n",
       "      <td>5799.000000</td>\n",
       "      <td>67.000000</td>\n",
       "      <td>2593.000000</td>\n",
       "      <td>48.540663</td>\n",
       "      <td>82398.000000</td>\n",
       "    </tr>\n",
       "  </tbody>\n",
       "</table>\n",
       "</div>"
      ],
      "text/plain": [
       "       Monthly_Inhand_Salary  Num_Bank_Accounts  Num_Credit_Card  \\\n",
       "count           42502.000000       50000.000000     50000.000000   \n",
       "mean             4182.004291          16.838260        22.921480   \n",
       "std              3174.109304         116.396848       129.314804   \n",
       "min               303.645417          -1.000000         0.000000   \n",
       "25%              1625.188333           3.000000         4.000000   \n",
       "50%              3086.305000           6.000000         5.000000   \n",
       "75%              5934.189094           7.000000         7.000000   \n",
       "max             15204.633333        1798.000000      1499.000000   \n",
       "\n",
       "       Interest_Rate  Delay_from_due_date  Num_Credit_Inquiries  \\\n",
       "count   50000.000000         50000.000000          48965.000000   \n",
       "mean       68.772640            21.052640             30.080200   \n",
       "std       451.602363            14.860397            196.984121   \n",
       "min         1.000000            -5.000000              0.000000   \n",
       "25%         8.000000            10.000000              4.000000   \n",
       "50%        13.000000            18.000000              7.000000   \n",
       "75%        20.000000            28.000000             10.000000   \n",
       "max      5799.000000            67.000000           2593.000000   \n",
       "\n",
       "       Credit_Utilization_Ratio  Total_EMI_per_month  \n",
       "count              50000.000000         50000.000000  \n",
       "mean                  32.279581          1491.304305  \n",
       "std                    5.106238          8595.647887  \n",
       "min                   20.509652             0.000000  \n",
       "25%                   28.061040            32.222388  \n",
       "50%                   32.280390            74.733349  \n",
       "75%                   36.468591           176.157491  \n",
       "max                   48.540663         82398.000000  "
      ]
     },
     "execution_count": 6,
     "metadata": {},
     "output_type": "execute_result"
    }
   ],
   "source": [
    "df.describe()"
   ]
  },
  {
   "cell_type": "markdown",
   "id": "dead061d",
   "metadata": {},
   "source": [
    "### Relatório com informações do perfil dos dados a partir da biblioteca \"ydata_profiling\"\n"
   ]
  },
  {
   "cell_type": "code",
   "execution_count": 7,
   "id": "be50698b",
   "metadata": {},
   "outputs": [
    {
     "data": {
      "application/vnd.jupyter.widget-view+json": {
       "model_id": "fcf960c5bb514d28a0195a54227e963d",
       "version_major": 2,
       "version_minor": 0
      },
      "text/plain": [
       "Summarize dataset:   0%|          | 0/5 [00:00<?, ?it/s]"
      ]
     },
     "metadata": {},
     "output_type": "display_data"
    },
    {
     "data": {
      "application/vnd.jupyter.widget-view+json": {
       "model_id": "ce25ef4c113641d7b5245e327c5e3971",
       "version_major": 2,
       "version_minor": 0
      },
      "text/plain": [
       "Generate report structure:   0%|          | 0/1 [00:00<?, ?it/s]"
      ]
     },
     "metadata": {},
     "output_type": "display_data"
    },
    {
     "data": {
      "application/vnd.jupyter.widget-view+json": {
       "model_id": "8aabdd2c85994e3d88be8d0afe7c810d",
       "version_major": 2,
       "version_minor": 0
      },
      "text/plain": [
       "Render HTML:   0%|          | 0/1 [00:00<?, ?it/s]"
      ]
     },
     "metadata": {},
     "output_type": "display_data"
    },
    {
     "data": {
      "application/vnd.jupyter.widget-view+json": {
       "model_id": "89e3c23eb7e14ed3a2169c1bab09a6c6",
       "version_major": 2,
       "version_minor": 0
      },
      "text/plain": [
       "Export report to file:   0%|          | 0/1 [00:00<?, ?it/s]"
      ]
     },
     "metadata": {},
     "output_type": "display_data"
    }
   ],
   "source": [
    "profile = ProfileReport(\n",
    "    df, title=\"Pandas Profiling Report\")  # cria o relatório\n",
    "\n",
    "profile.to_file(\"resultados.html\")  # salva os resultados em um arquivo"
   ]
  },
  {
   "cell_type": "markdown",
   "id": "0fa7cf83",
   "metadata": {},
   "source": [
    "### Tipos de cada coluna no Dataframe\n"
   ]
  },
  {
   "cell_type": "code",
   "execution_count": null,
   "id": "700a2408",
   "metadata": {},
   "outputs": [],
   "source": [
    "df.dtypes"
   ]
  },
  {
   "cell_type": "markdown",
   "id": "58d417c8",
   "metadata": {},
   "source": [
    "### Cria um dataframe copia para começar a limpeza dos dados. O primeiro passo será definir o tipo das colunas que não serão de texto.\n"
   ]
  },
  {
   "cell_type": "code",
   "execution_count": null,
   "id": "58479dcd",
   "metadata": {},
   "outputs": [],
   "source": [
    "df_cln = df.copy()\n",
    "\n",
    "list_datetime = ['dateCrawled', 'dateCreated',\n",
    "                 'lastSeen']  # colunas do tipo de data e hora\n",
    "for column in list_datetime:\n",
    "    # transforma a coluna para o tipo \"datetime\" com o formato passado\n",
    "    df_cln[column] = pd.to_datetime(df_cln[column], format='%Y-%m-%d %H:%M:%S')\n",
    "\n",
    "list_int = ['yearOfRegistration', 'monthOfRegistration',\n",
    "            'nrOfPictures', 'postalCode']  # colunas do tipo inteiro\n",
    "for column in list_int:\n",
    "    # transforma a coluna para o tipo inteiro\n",
    "    df_cln[column] = df_cln[column].astype(\"int\")\n",
    "\n",
    "list_float = ['price', 'powerPS', 'kilometer']  # colunas do tipo float\n",
    "for column in list_float:\n",
    "    # transforma a coluna para o tipo float\n",
    "    df_cln[column] = df_cln[column].astype(\"float\")"
   ]
  },
  {
   "cell_type": "markdown",
   "id": "b47cd8d6",
   "metadata": {},
   "source": [
    "### Verifica os novos tipos de cada coluna\n"
   ]
  },
  {
   "cell_type": "code",
   "execution_count": null,
   "id": "20213798",
   "metadata": {},
   "outputs": [],
   "source": [
    "df_cln.dtypes"
   ]
  },
  {
   "cell_type": "markdown",
   "id": "0b2dae2f",
   "metadata": {},
   "source": [
    "### Verifica as colunas com valores nulos\n"
   ]
  },
  {
   "cell_type": "code",
   "execution_count": null,
   "id": "58415bff",
   "metadata": {},
   "outputs": [],
   "source": [
    "# soma a quantidade de valores nulos em cada coluna\n",
    "res_missing = df_cln.isna().sum()\n",
    "# calcula o percentual de casos nulos\n",
    "res_missing = (res_missing/len(df_cln))*100\n",
    "# ordena pelas colunas com mais casos nulos\n",
    "res_missing.sort_values(ascending=False)"
   ]
  },
  {
   "cell_type": "markdown",
   "id": "f8edd4f6",
   "metadata": {},
   "source": [
    "### Função para verificar os casos nulos\n"
   ]
  },
  {
   "cell_type": "code",
   "execution_count": null,
   "id": "8f1e7af9",
   "metadata": {},
   "outputs": [],
   "source": [
    "def check_missing(df):\n",
    "    res_missing = df_cln.isna().sum()\n",
    "    res_missing = (res_missing/len(df_cln))*100\n",
    "    return res_missing"
   ]
  },
  {
   "cell_type": "code",
   "execution_count": null,
   "id": "aa684cc1",
   "metadata": {},
   "outputs": [],
   "source": [
    "check_missing(df_cln).sort_values(ascending=False)"
   ]
  },
  {
   "cell_type": "markdown",
   "id": "0f92af67",
   "metadata": {},
   "source": [
    "### Preenchimento dos campos nulos com valores fixos\n"
   ]
  },
  {
   "cell_type": "code",
   "execution_count": null,
   "id": "f7b115af",
   "metadata": {},
   "outputs": [],
   "source": [
    "df_cln['notRepairedDamage'].value_counts()"
   ]
  },
  {
   "cell_type": "code",
   "execution_count": null,
   "id": "64f93b60",
   "metadata": {},
   "outputs": [],
   "source": [
    "df_cln['notRepairedDamage'] = df_cln['notRepairedDamage'].fillna(\"no_info\")"
   ]
  },
  {
   "cell_type": "markdown",
   "id": "b5bf5e2b",
   "metadata": {},
   "source": [
    "### Preenchimento dos campos nulos com valores fixos\n"
   ]
  },
  {
   "cell_type": "code",
   "execution_count": null,
   "id": "799f9e16",
   "metadata": {},
   "outputs": [],
   "source": [
    "df_cln['vehicleType'].value_counts()"
   ]
  },
  {
   "cell_type": "code",
   "execution_count": null,
   "id": "655858f3",
   "metadata": {},
   "outputs": [],
   "source": [
    "df_cln['vehicleType'] = df_cln['vehicleType'].fillna(\"no_info\")"
   ]
  },
  {
   "cell_type": "markdown",
   "id": "5184662c",
   "metadata": {},
   "source": [
    "### Preenchimento dos campos nulos com o campo que mais se repete\n"
   ]
  },
  {
   "cell_type": "code",
   "execution_count": null,
   "id": "1f794d6f",
   "metadata": {},
   "outputs": [],
   "source": [
    "df_cln['fuelType'].value_counts()"
   ]
  },
  {
   "cell_type": "code",
   "execution_count": null,
   "id": "05aceacf",
   "metadata": {},
   "outputs": [],
   "source": [
    "high_freq = df_cln['fuelType'].value_counts().idxmax()\n",
    "df_cln['fuelType'] = df_cln['fuelType'].fillna(high_freq)"
   ]
  },
  {
   "cell_type": "markdown",
   "id": "7539bbe8",
   "metadata": {},
   "source": [
    "### Preenchimento dos campos nulos com valores fixos de outra coluna\n"
   ]
  },
  {
   "cell_type": "code",
   "execution_count": null,
   "id": "569992ee",
   "metadata": {},
   "outputs": [],
   "source": [
    "df_cln['model'] = df_cln['model'].fillna(df_cln['vehicleType'])"
   ]
  },
  {
   "cell_type": "markdown",
   "id": "41597f08",
   "metadata": {},
   "source": [
    "### Preenchimento dos campos nulos com valores fixos de outra coluna\n"
   ]
  },
  {
   "cell_type": "code",
   "execution_count": null,
   "id": "6c0c20f2",
   "metadata": {},
   "outputs": [],
   "source": [
    "df_cln['gearbox'] = df_cln['gearbox'].fillna(\"no_info\")"
   ]
  },
  {
   "cell_type": "markdown",
   "id": "80d2cb13",
   "metadata": {},
   "source": [
    "### Verifica os resultados nulos após o tratamento\n"
   ]
  },
  {
   "cell_type": "code",
   "execution_count": null,
   "id": "5b1c6341",
   "metadata": {},
   "outputs": [],
   "source": [
    "check_missing(df_cln).sort_values(ascending=False)"
   ]
  },
  {
   "cell_type": "markdown",
   "id": "d21147fd",
   "metadata": {},
   "source": [
    "### Eliminando os campos duplicados\n"
   ]
  },
  {
   "cell_type": "code",
   "execution_count": null,
   "id": "e55d4444",
   "metadata": {},
   "outputs": [],
   "source": [
    "print(\"N. de linhas antes de remover duplicadas:\", len(df_cln))\n",
    "df_cln = df_cln.drop_duplicates()\n",
    "print(\"N. de linhas depois de remover duplicadas:\", len(df_cln))"
   ]
  },
  {
   "cell_type": "markdown",
   "id": "735e0d90",
   "metadata": {},
   "source": [
    "### Eliminando as colunas constantes\n"
   ]
  },
  {
   "cell_type": "code",
   "execution_count": null,
   "id": "6619ffe6",
   "metadata": {},
   "outputs": [],
   "source": [
    "list_constant = [col for col in df_cln.columns if df_cln[col].nunique() == 1]\n",
    "list_constant"
   ]
  },
  {
   "cell_type": "code",
   "execution_count": null,
   "id": "bfe33589",
   "metadata": {},
   "outputs": [],
   "source": [
    "print(\"N. de colunas antes de remover colunas constantes:\", len(df_cln.columns))\n",
    "df_cln = df_cln.drop(list_constant, axis=1)\n",
    "print(\"N. de colunas depois de remover colunas constantes:\", len(df_cln.columns))"
   ]
  },
  {
   "cell_type": "markdown",
   "id": "32cafa87",
   "metadata": {},
   "source": [
    "### Eliminando as colunas extremamente desbalanceadas\n"
   ]
  },
  {
   "cell_type": "code",
   "execution_count": null,
   "id": "fa455fc1",
   "metadata": {},
   "outputs": [],
   "source": [
    "df_cln['offerType'].value_counts(normalize=True)"
   ]
  },
  {
   "cell_type": "code",
   "execution_count": null,
   "id": "49b3ae7d",
   "metadata": {},
   "outputs": [],
   "source": [
    "df_cln['offerType'].value_counts(normalize=True).values[0]"
   ]
  },
  {
   "cell_type": "code",
   "execution_count": null,
   "id": "4e6b58d7",
   "metadata": {},
   "outputs": [],
   "source": [
    "list_imbalance = []\n",
    "limit = 0.98  # limite para o caso que mais se repete\n",
    "for col in df_cln.columns:\n",
    "    # armazena o valor de maior repetição\n",
    "    perc = df_cln[col].value_counts(normalize=True).values[0]\n",
    "    if perc > limit:  # se for mais que o limite armazena na lista das colunas desbanlanceadas\n",
    "        list_imbalance.append(col)\n",
    "        print(col, perc)"
   ]
  },
  {
   "cell_type": "code",
   "execution_count": null,
   "id": "9d1487c3",
   "metadata": {},
   "outputs": [],
   "source": [
    "df_cln = df_cln.drop(list_imbalance, axis=1)"
   ]
  },
  {
   "cell_type": "markdown",
   "id": "6762e747",
   "metadata": {},
   "source": [
    "### Verificação dos resultados depois de eliminar as colunas extremamente desbalanceadas\n"
   ]
  },
  {
   "cell_type": "code",
   "execution_count": null,
   "id": "153d0ab4",
   "metadata": {},
   "outputs": [],
   "source": [
    "list_imbalance = []\n",
    "limit = 0.98\n",
    "for col in df_cln.columns:\n",
    "    perc = df_cln[col].value_counts(normalize=True).values[0]\n",
    "    if perc > limit:\n",
    "        list_imbalance.append(col)\n",
    "        print(col, perc)"
   ]
  },
  {
   "cell_type": "markdown",
   "id": "dc475290",
   "metadata": {},
   "source": [
    "### Verificação da precisão dos dados\n"
   ]
  },
  {
   "cell_type": "markdown",
   "id": "5238503b",
   "metadata": {},
   "source": [
    "### Os meses precisam estar no intervalo: 1 <= meses <= 12\n"
   ]
  },
  {
   "cell_type": "code",
   "execution_count": null,
   "id": "d3a7e36c",
   "metadata": {},
   "outputs": [],
   "source": [
    "df_cln[(df_cln['monthOfRegistration'] < 1) |\n",
    "       (df_cln['monthOfRegistration'] > 12)]"
   ]
  },
  {
   "cell_type": "code",
   "execution_count": null,
   "id": "ee6b93df",
   "metadata": {},
   "outputs": [],
   "source": [
    "df_cln.loc[(df_cln['monthOfRegistration'] < 1) | (\n",
    "    df_cln['monthOfRegistration'] > 12), 'monthOfRegistration'] = -1"
   ]
  },
  {
   "cell_type": "markdown",
   "id": "fa28e159",
   "metadata": {},
   "source": [
    "### Verificação do resultado\n"
   ]
  },
  {
   "cell_type": "code",
   "execution_count": null,
   "id": "dafaf1b8",
   "metadata": {},
   "outputs": [],
   "source": [
    "df_cln[((df_cln['monthOfRegistration'] < 1) | (\n",
    "    df_cln['monthOfRegistration'] > 12)) & (df_cln['monthOfRegistration'] != -1)]"
   ]
  },
  {
   "cell_type": "markdown",
   "id": "220c5379",
   "metadata": {},
   "source": [
    "### Os meses precisam estar no intervalo: 1900 <= ano <= 2016\n"
   ]
  },
  {
   "cell_type": "code",
   "execution_count": null,
   "id": "3fbfc1a7",
   "metadata": {},
   "outputs": [],
   "source": [
    "df_cln.loc[(df_cln['yearOfRegistration'] < 1900) | (\n",
    "    df_cln['yearOfRegistration'] > 2016), 'yearOfRegistration'] = 1900"
   ]
  },
  {
   "cell_type": "markdown",
   "id": "8d396d65",
   "metadata": {},
   "source": [
    "### Verificação do resultado\n"
   ]
  },
  {
   "cell_type": "code",
   "execution_count": null,
   "id": "1e71f39e",
   "metadata": {},
   "outputs": [],
   "source": [
    "df_cln[(df_cln['yearOfRegistration'] < 1900) |\n",
    "       (df_cln['yearOfRegistration'] > 2016)]"
   ]
  },
  {
   "cell_type": "code",
   "execution_count": null,
   "id": "5bbb82d0",
   "metadata": {},
   "outputs": [],
   "source": [
    "df_cln.describe()"
   ]
  },
  {
   "cell_type": "markdown",
   "id": "81b69b80",
   "metadata": {},
   "source": [
    "### Os preços precisam ser maiores que 0\n"
   ]
  },
  {
   "cell_type": "code",
   "execution_count": null,
   "id": "328975aa",
   "metadata": {},
   "outputs": [],
   "source": [
    "df_cln = df_cln[df_cln['price'] > 0]"
   ]
  },
  {
   "cell_type": "code",
   "execution_count": null,
   "id": "4e7ae0f5",
   "metadata": {},
   "outputs": [],
   "source": [
    "df_cln.describe()"
   ]
  },
  {
   "cell_type": "markdown",
   "id": "fe292170",
   "metadata": {},
   "source": [
    "### Eliminação de Outliers\n"
   ]
  },
  {
   "cell_type": "markdown",
   "id": "b574712b",
   "metadata": {},
   "source": [
    "#### Exemplo de distribuição e quantil\n",
    "\n",
    "<img src=\"https://media.geeksforgeeks.org/wp-content/uploads/20201127112813/NORMALDISTRIBUTION-660x362.png\"  width=\"80%\" height=\"60%\">\n"
   ]
  },
  {
   "cell_type": "code",
   "execution_count": null,
   "id": "2946f9bb",
   "metadata": {},
   "outputs": [],
   "source": [
    "# valor do quantil de 2% a esquerda\n",
    "df_cln[['price', 'powerPS']].quantile(.02)"
   ]
  },
  {
   "cell_type": "code",
   "execution_count": null,
   "id": "fc1ec919",
   "metadata": {},
   "outputs": [],
   "source": [
    "# valor do quantil de 2% a direita\n",
    "df_cln[['price', 'powerPS']].quantile(.98)"
   ]
  },
  {
   "cell_type": "code",
   "execution_count": null,
   "id": "645519e8",
   "metadata": {},
   "outputs": [],
   "source": [
    "print(\"Quantidade de linhas antes de eliminar os outliers:\", len(df_cln))\n",
    "# colunas para considerar a eliminação de outliers\n",
    "list_quantile = ['price', 'powerPS']\n",
    "df_aux = df_cln.copy()\n",
    "for col in list_quantile:\n",
    "    low_limit = df_aux[col].quantile(.02)  # valor do quantil de 2% a esquerda\n",
    "    high_limit = df_aux[col].quantile(.98)  # valor do quantil de 2% a direita\n",
    "    df_cln = df_cln[(df_cln[col] > low_limit) & (\n",
    "        df_cln[col] < high_limit)]  # filtra a partir do quantil\n",
    "\n",
    "print(\"Quantidade de linhas antes de eliminar os outliers:\", len(df_cln))"
   ]
  },
  {
   "cell_type": "code",
   "execution_count": null,
   "id": "eeb0bb85",
   "metadata": {},
   "outputs": [],
   "source": [
    "df_cln.describe()"
   ]
  },
  {
   "cell_type": "markdown",
   "id": "ad8a89f4",
   "metadata": {},
   "source": [
    "### Gera os novos resultados\n"
   ]
  },
  {
   "cell_type": "code",
   "execution_count": null,
   "id": "11b90ffc",
   "metadata": {},
   "outputs": [],
   "source": [
    "profile = ProfileReport(df_cln, title=\"Pandas Profiling Report\")\n",
    "\n",
    "profile.to_file(\"novos_resultados.html\")"
   ]
  }
 ],
 "metadata": {
  "kernelspec": {
   "display_name": "Python 3 (ipykernel)",
   "language": "python",
   "name": "python3"
  },
  "language_info": {
   "codemirror_mode": {
    "name": "ipython",
    "version": 3
   },
   "file_extension": ".py",
   "mimetype": "text/x-python",
   "name": "python",
   "nbconvert_exporter": "python",
   "pygments_lexer": "ipython3",
   "version": "3.10.13"
  }
 },
 "nbformat": 4,
 "nbformat_minor": 5
}
