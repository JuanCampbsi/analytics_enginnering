{
 "cells": [
  {
   "cell_type": "markdown",
   "metadata": {},
   "source": [
    "## Módulo: Analytics Engineering\n",
    "\n",
    "## Aula 3 - Parte 1\n"
   ]
  },
  {
   "cell_type": "markdown",
   "metadata": {},
   "source": [
    "### Programação da Aula 3:\n",
    "\n",
    "> ### 1. **O que é a \"Great Expectations\"**:\n",
    ">\n",
    "> ### 2. **\"Great Expectations\" na prática**;\n",
    ">\n",
    "> ### 3. **Apresentação do projeto**;\n",
    ">\n",
    "> ### 4. **Desenvolvimento de exercício ou projeto**;\n",
    "\n",
    "#### Link para o formulário para informar os integrantes do grupo do projeto:\n",
    "\n",
    "https://forms.gle/8kCUMyV7TDZCWz5t6\n",
    "\n",
    "#### Link para o formulário de Feedback da aula:\n",
    "\n",
    "https://forms.gle/WTqMrUForj3z1rbK6\n"
   ]
  },
  {
   "cell_type": "markdown",
   "metadata": {},
   "source": [
    "### Great Expectations\n",
    "\n",
    "#### Great Expectations é uma biblioteca para testar e documentar a qualidade dos dados em projetos. Ela permite que você defina, documente e teste as expectativas em seus dados, garantindo que eles atendam aos critérios desejados. Isso é útil para verificar a integridade, precisão e consistência dos seus dados.\n",
    "\n",
    "<div style=\"text-align: center;\">\n",
    "\n",
    "<br>\n",
    "\n",
    "<img src=\"https://docs.greatexpectations.io/assets/images/data_context_does_for_you-df2eca32d0152ead16cccd5d3d226abb.png\"  width=\"80%\" height=\"60%\">\n",
    "\n",
    "###### Fonte: https://docs.greatexpectations.io/assets/images/data_context_does_for_you-df2eca32d0152ead16cccd5d3d226abb.png\n",
    "\n",
    "<br>\n",
    "\n",
    "<img src=\"https://docs.greatexpectations.io/assets/images/data_context_flowchart-2d63bd4a6be784aa4d7f44a962a65b72.png\"  width=\"80%\" height=\"60%\">\n",
    "\n",
    "###### Fonte: https://docs.greatexpectations.io/assets/images/data_context_flowchart-2d63bd4a6be784aa4d7f44a962a65b72.png\n",
    "\n",
    "<br>\n",
    "\n",
    "<br>\n",
    "\n",
    "<img src=\"https://docs.greatexpectations.io/assets/images/datasource_flowchart-73d07084d7c20d480f92dacb8001222f.png\"  width=\"80%\" height=\"60%\">\n",
    "\n",
    "###### Fonte: https://docs.greatexpectations.io/assets/images/datasource_flowchart-73d07084d7c20d480f92dacb8001222f.png\n",
    "\n",
    "<br>\n",
    "\n",
    "<img src=\"https://docs.greatexpectations.io/assets/images/checkpoint_flowchart-80a2dc06e90a4739f6cfdec60a115c1e.png\"  width=\"80%\" height=\"60%\">\n",
    "\n",
    "###### Fonte: https://docs.greatexpectations.io/assets/images/checkpoint_flowchart-80a2dc06e90a4739f6cfdec60a115c1e.png\n",
    "\n",
    "<br>\n"
   ]
  },
  {
   "cell_type": "markdown",
   "metadata": {},
   "source": [
    "### Instalação da biblioteca \"Great Expectations\"\n"
   ]
  },
  {
   "cell_type": "code",
   "execution_count": null,
   "metadata": {},
   "outputs": [],
   "source": [
    "!pip install great_expectations"
   ]
  },
  {
   "cell_type": "code",
   "execution_count": null,
   "metadata": {},
   "outputs": [],
   "source": [
    "!pip show great_expectations"
   ]
  },
  {
   "cell_type": "markdown",
   "metadata": {},
   "source": [
    "### Leitura de um arquivo csv com o Pandas direto pelo \"great_expectations\"\n"
   ]
  },
  {
   "cell_type": "code",
   "execution_count": null,
   "metadata": {},
   "outputs": [],
   "source": [
    "import great_expectations as gx\n",
    "\n",
    "df = gx.read_csv(\"dados/autos.csv\", encoding='ISO-8859-1')\n",
    "df.head()  # as funções funcionam igual"
   ]
  },
  {
   "cell_type": "markdown",
   "metadata": {},
   "source": [
    "### Ou leitura do arquivo com o Pandas e depois convertando para o formato do \"great_expectations\"\n"
   ]
  },
  {
   "cell_type": "code",
   "execution_count": null,
   "metadata": {},
   "outputs": [],
   "source": [
    "import pandas as pd\n",
    "\n",
    "df = pd.read_csv(\"dados/autos.csv\", encoding='ISO-8859-1')\n",
    "# de um dataframe pandas para o formato do \"great_expectations\"\n",
    "df = gx.from_pandas(df)\n",
    "df.head()"
   ]
  },
  {
   "cell_type": "markdown",
   "metadata": {},
   "source": [
    "### Adiciona duas expectativas de tipo de coluna para a base de dados\n"
   ]
  },
  {
   "cell_type": "code",
   "execution_count": null,
   "metadata": {},
   "outputs": [],
   "source": [
    "# expectativa de que a coluna 'yearOfRegistration' precisa ser do tipo 'int64'\n",
    "df.expect_column_values_to_be_of_type(\n",
    "    column='yearOfRegistration', type_='int64')\n",
    "# expectativa de que a coluna 'monthOfRegistration' precisa ser do tipo 'int64'\n",
    "df.expect_column_values_to_be_of_type(\n",
    "    column='monthOfRegistration', type_='int64')"
   ]
  },
  {
   "cell_type": "markdown",
   "metadata": {},
   "source": [
    "### Lista com todas as expectativas disponíveis:\n",
    "\n",
    "https://greatexpectations.io/expectations/\n"
   ]
  },
  {
   "cell_type": "markdown",
   "metadata": {},
   "source": [
    "### As expectativas ficam armazenadas em um \"Expectation Suite\":\n"
   ]
  },
  {
   "cell_type": "code",
   "execution_count": null,
   "metadata": {},
   "outputs": [],
   "source": [
    "df.get_expectation_suite()"
   ]
  },
  {
   "cell_type": "markdown",
   "metadata": {},
   "source": [
    "### Adicionando uma nova expectativa, agora com relação a valores esperados de 1 a 12 para a coluna 'monthOfRegistration'\n"
   ]
  },
  {
   "cell_type": "code",
   "execution_count": null,
   "metadata": {},
   "outputs": [],
   "source": [
    "df.expect_column_values_to_be_between(\n",
    "    column=\"monthOfRegistration\",\n",
    "    min_value=1,  # valor minimo esperado\n",
    "    max_value=12,  # valor maximo esperado\n",
    ")"
   ]
  },
  {
   "cell_type": "markdown",
   "metadata": {},
   "source": [
    "### Agora trabalhando com checkpoints e validadores\n"
   ]
  },
  {
   "cell_type": "code",
   "execution_count": null,
   "metadata": {},
   "outputs": [],
   "source": [
    "import great_expectations as gx\n",
    "\n",
    "context = gx.get_context()  # inicia um contexto do \"great_expectations\"\n",
    "\n",
    "print(context)"
   ]
  },
  {
   "cell_type": "markdown",
   "metadata": {},
   "source": [
    "### Perceba que o contexto inicia sem nenhuma lista de Expectativas (as \"Expectation Suites\")\n"
   ]
  },
  {
   "cell_type": "code",
   "execution_count": null,
   "metadata": {},
   "outputs": [],
   "source": [
    "context.list_expectation_suite_names()"
   ]
  },
  {
   "cell_type": "markdown",
   "metadata": {},
   "source": [
    "### Cria um validador a partir da base de dados pelo arquivo csv e o Pandas\n"
   ]
  },
  {
   "cell_type": "code",
   "execution_count": null,
   "metadata": {},
   "outputs": [],
   "source": [
    "validator = context.sources.pandas_default.read_csv(\n",
    "    \"dados/autos.csv\", encoding='ISO-8859-1')  # cria o validador\n",
    "\n",
    "# expectativa de que a coluna 'yearOfRegistration' precisa ser do tipo 'int64'\n",
    "validator.expect_column_values_to_be_of_type(\n",
    "    column='yearOfRegistration', type_='int64')\n",
    "# expectativa de que a coluna 'monthOfRegistration' precisa ser do tipo 'int64'\n",
    "validator.expect_column_values_to_be_of_type(\n",
    "    column='monthOfRegistration', type_='int64')\n",
    "\n",
    "# expectativa de valores esperados entre 1000 e 500000 para a coluna 'kilometer'\n",
    "validator.expect_column_values_to_be_between(\n",
    "    column=\"kilometer\",\n",
    "    min_value=1000,\n",
    "    max_value=500000,\n",
    ")\n",
    "\n",
    "# expectativa de valores esperados entre 1900 e 2016 para a coluna 'yearOfRegistration'\n",
    "validator.expect_column_values_to_be_between(\n",
    "    column=\"yearOfRegistration\",\n",
    "    min_value=1900,\n",
    "    max_value=2016,\n",
    ")"
   ]
  },
  {
   "cell_type": "markdown",
   "metadata": {},
   "source": [
    "### Salva a \"Expectation Suite\" criada pelo validador\n"
   ]
  },
  {
   "cell_type": "code",
   "execution_count": null,
   "metadata": {},
   "outputs": [],
   "source": [
    "# o parametro \"discard_failed_expectations\" igual a \"False\" indica que mesmos as expectativas que não foram cumpridas serão salvas\n",
    "validator.save_expectation_suite(discard_failed_expectations=False)"
   ]
  },
  {
   "cell_type": "code",
   "execution_count": null,
   "metadata": {},
   "outputs": [],
   "source": [
    "# agora pode se observer que a \"Expectation Suite\" está disponível no \"contexto\"\n",
    "context.list_expectation_suite_names()"
   ]
  },
  {
   "cell_type": "markdown",
   "metadata": {},
   "source": [
    "### Cria um \"checkpoint\" a partir do resultado atual do validador\n"
   ]
  },
  {
   "cell_type": "code",
   "execution_count": null,
   "metadata": {},
   "outputs": [],
   "source": [
    "checkpoint = context.add_or_update_checkpoint(\n",
    "    name=\"primeiro_checkpoint\", validator=validator)"
   ]
  },
  {
   "cell_type": "markdown",
   "metadata": {},
   "source": [
    "### Processa esse \"checkpoint\"\n"
   ]
  },
  {
   "cell_type": "code",
   "execution_count": null,
   "metadata": {},
   "outputs": [],
   "source": [
    "checkpoint_result = checkpoint.run()"
   ]
  },
  {
   "cell_type": "markdown",
   "metadata": {},
   "source": [
    "### Disponibiliza uma documentação web com as informações das expectativas e testes dos \"checkpoints\" no link indicado\n"
   ]
  },
  {
   "cell_type": "code",
   "execution_count": null,
   "metadata": {},
   "outputs": [],
   "source": [
    "context.build_data_docs()"
   ]
  },
  {
   "cell_type": "markdown",
   "metadata": {},
   "source": [
    "### Continuação dos testes com a adição de uma nova expectativa\n"
   ]
  },
  {
   "cell_type": "code",
   "execution_count": null,
   "metadata": {},
   "outputs": [],
   "source": [
    "# expectativa de valores esperados entre 0 e 30000 para a coluna 'powerPS'\n",
    "validator.expect_column_values_to_be_between(\n",
    "    column=\"powerPS\",\n",
    "    min_value=0,\n",
    "    max_value=30000,\n",
    ")"
   ]
  },
  {
   "cell_type": "markdown",
   "metadata": {},
   "source": [
    "### Salva a novo conjunto de expectativas (\"Expectation Suite\") e processa mais um \"checkpoint\"\n"
   ]
  },
  {
   "cell_type": "code",
   "execution_count": null,
   "metadata": {},
   "outputs": [],
   "source": [
    "validator.save_expectation_suite(discard_failed_expectations=False)"
   ]
  },
  {
   "cell_type": "code",
   "execution_count": null,
   "metadata": {},
   "outputs": [],
   "source": [
    "checkpoint = context.add_or_update_checkpoint(\n",
    "    name=\"segundo_checkpoint\", validator=validator)"
   ]
  },
  {
   "cell_type": "code",
   "execution_count": null,
   "metadata": {},
   "outputs": [],
   "source": [
    "checkpoint_result = checkpoint.run()"
   ]
  }
 ],
 "metadata": {
  "kernelspec": {
   "display_name": "ada",
   "language": "python",
   "name": "python3"
  },
  "language_info": {
   "codemirror_mode": {
    "name": "ipython",
    "version": 3
   },
   "file_extension": ".py",
   "mimetype": "text/x-python",
   "name": "python",
   "nbconvert_exporter": "python",
   "pygments_lexer": "ipython3",
   "version": "3.10.13"
  }
 },
 "nbformat": 4,
 "nbformat_minor": 2
}
