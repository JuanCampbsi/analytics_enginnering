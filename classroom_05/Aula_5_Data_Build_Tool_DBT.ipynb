{
 "cells": [
  {
   "cell_type": "markdown",
   "metadata": {},
   "source": [
    "## Módulo: Analytics Engineering\n",
    "\n",
    "## Aula 5 - Parte 1\n"
   ]
  },
  {
   "cell_type": "markdown",
   "metadata": {},
   "source": [
    "### Programação da Aula 5:\n",
    "\n",
    "> ### 1. **O que é o Data Build Tool - DBT**;\n",
    ">\n",
    "> ### 2. **DBT na prática**;\n",
    ">\n",
    "> ### 3. **Desenvolvimento do projeto final**.\n",
    "\n",
    "#### Link para o formulário para informar os integrantes do grupo do projeto:\n",
    "\n",
    "https://forms.gle/8kCUMyV7TDZCWz5t6\n",
    "\n",
    "#### Link para o formulário de Feedback da aula:\n",
    "\n",
    "https://forms.gle/f94vjRRpBnsA4wkt9\n"
   ]
  },
  {
   "cell_type": "markdown",
   "metadata": {},
   "source": [
    "## O que é o Data Build Tool - DBT\n",
    "\n",
    "### O DBT é uma ferramenta de construção de dados que nos permite definir, testar e documentar nossas transformações de dados. Com esta ferramenta, podemos definir modelos de dados, transformar e preparar dados, e também testar nossas transformações para garantir que nossos dados estejam corretos.\n",
    "\n",
    "<div style=\"text-align: center;\">\n",
    "\n",
    "<br>\n",
    "\n",
    "<img src=\"https://www.analytics8.com/wp-content/uploads/2022/08/dbt-ecosystem-overview-Analytics8-scaled.jpg\"  width=\"80%\" height=\"60%\">\n"
   ]
  },
  {
   "cell_type": "markdown",
   "metadata": {},
   "source": [
    "### DBT na prática\n"
   ]
  },
  {
   "cell_type": "markdown",
   "metadata": {},
   "source": [
    "### Instalação da biblioteca do DBT com o plugin do Postgres\n"
   ]
  },
  {
   "cell_type": "code",
   "execution_count": null,
   "metadata": {},
   "outputs": [],
   "source": [
    "!pip install dbt-postgres"
   ]
  },
  {
   "cell_type": "code",
   "execution_count": null,
   "metadata": {},
   "outputs": [],
   "source": [
    "!dbt --version"
   ]
  }
 ],
 "metadata": {
  "kernelspec": {
   "display_name": "ada",
   "language": "python",
   "name": "python3"
  },
  "language_info": {
   "codemirror_mode": {
    "name": "ipython",
    "version": 3
   },
   "file_extension": ".py",
   "mimetype": "text/x-python",
   "name": "python",
   "nbconvert_exporter": "python",
   "pygments_lexer": "ipython3",
   "version": "3.9.18"
  }
 },
 "nbformat": 4,
 "nbformat_minor": 2
}
